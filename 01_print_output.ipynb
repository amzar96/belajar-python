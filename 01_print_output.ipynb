{
 "cells": [
  {
   "cell_type": "markdown",
   "id": "790d6f09-40a3-40e0-ab49-dadddfade8eb",
   "metadata": {},
   "source": [
    "# Print statement\n",
    "\n",
    "Ini adalah paling ringkas tetapi amat bermanfaat. Jika tidak *print* macam mana nak tahu apa code kita tu keluar kan? Dengan adanya print statement ini, kita boleh hantar variable apa untuk dikeluarkan dalam *console*\n",
    "\n",
    "Terdapat beberapa cara untuk keluarkan output dalam Python"
   ]
  },
  {
   "cell_type": "markdown",
   "id": "c4b3b985-8c13-429e-9a2f-de3090f184c4",
   "metadata": {},
   "source": [
    "## f-string\n",
    "\n",
    "Gunakan cara ini jika nak gabungkan lebih dari satu variable di dalam satu print. Sediakan variable seperti (nama) dan kemudian bina satu ayat ringkas di dalam `print()`\n",
    "\n",
    "Cara ini juga mudah digunakan kerana boleh gabungkan dengan apa sahaja variable (str, int, list) di dalam satu `print()`"
   ]
  },
  {
   "cell_type": "code",
   "execution_count": 1,
   "id": "feb47674-c1a4-4612-a66b-6850dcc67114",
   "metadata": {},
   "outputs": [
    {
     "name": "stdout",
     "output_type": "stream",
     "text": [
      "nama bapa budak itu adalah Walid bin Ahmad\n"
     ]
    }
   ],
   "source": [
    "nama = \"Walid bin Ahmad\"\n",
    "\n",
    "print(f\"nama bapa budak itu adalah {nama}\")"
   ]
  },
  {
   "cell_type": "code",
   "execution_count": 2,
   "id": "6409ff57-b45a-4dc6-b495-a8b45d20d0a6",
   "metadata": {},
   "outputs": [
    {
     "name": "stdout",
     "output_type": "stream",
     "text": [
      "nama bapa budak itu adalah Walid bin Ahmad dan umurnya 70 tahun\n"
     ]
    }
   ],
   "source": [
    "umur = 70\n",
    "\n",
    "print(f\"nama bapa budak itu adalah {nama} dan umurnya {umur} tahun\")"
   ]
  },
  {
   "cell_type": "code",
   "execution_count": 3,
   "id": "0f701969-e120-4d44-a047-e51bdac182d5",
   "metadata": {},
   "outputs": [
    {
     "name": "stdout",
     "output_type": "stream",
     "text": [
      "nama bapa budak itu adalah Walid bin Ahmad dan umurnya 70 tahun. Anaknya pula nama ['walid1', 'walid2']\n"
     ]
    }
   ],
   "source": [
    "anaks = ['walid1', 'walid2']\n",
    "\n",
    "print(f\"nama bapa budak itu adalah {nama} dan umurnya {umur} tahun. Anaknya pula nama {anaks}\")"
   ]
  },
  {
   "cell_type": "markdown",
   "id": "4f02774a-17fb-493f-9402-47c27a408042",
   "metadata": {},
   "source": [
    "## format()\n",
    "\n",
    "Cara ini adalah kaedah lama di dalam Python berbanding f-string. Dengan `format()` anda perlu menambahkan `str.format()` line tambahan di belakang dan menampakkan lebih panjang. \n",
    "\n",
    "Tetapi, format() amat berguna jika anda tidak mahu pening kepala sekiranya dalam print statement perlu menggunakan *slash* atau *backslash*"
   ]
  },
  {
   "cell_type": "code",
   "execution_count": 4,
   "id": "5b0b8de2-c413-433f-92fd-307fb7f594af",
   "metadata": {},
   "outputs": [
    {
     "name": "stdout",
     "output_type": "stream",
     "text": [
      "nama bapa budak itu adalah Walid bin Ahmad\n"
     ]
    }
   ],
   "source": [
    "print(\"nama bapa budak itu adalah {nama}\".format(nama=nama))"
   ]
  },
  {
   "cell_type": "code",
   "execution_count": 5,
   "id": "e8db6a2c-ddfa-4d35-b4c7-8d361562276b",
   "metadata": {},
   "outputs": [
    {
     "name": "stdout",
     "output_type": "stream",
     "text": [
      "nama bapa budak itu adalah Walid bin Ahmad\n"
     ]
    }
   ],
   "source": [
    "print(\"nama bapa budak itu adalah {}\".format(nama))"
   ]
  },
  {
   "cell_type": "code",
   "execution_count": 6,
   "id": "d5f638b8-bc2e-48c7-a8a8-e4752939413f",
   "metadata": {},
   "outputs": [
    {
     "name": "stdout",
     "output_type": "stream",
     "text": [
      "nama bapa budak itu adalah Walid bin Ahmad dan umurnya 70 tahun. Anaknya pula nama ['walid1', 'walid2']\n"
     ]
    }
   ],
   "source": [
    "print(\"nama bapa budak itu adalah {nama} dan umurnya {umur} tahun. Anaknya pula nama {anaks}\".format(nama=nama, umur=umur, anaks=anaks))"
   ]
  },
  {
   "cell_type": "code",
   "execution_count": 7,
   "id": "73fd7736-a1fe-4279-a1cd-5020cce339f8",
   "metadata": {},
   "outputs": [
    {
     "name": "stdout",
     "output_type": "stream",
     "text": [
      "nama bapa budak itu adalah 70 dan umurnya Walid bin Ahmad tahun. Anaknya pula nama ['walid1', 'walid2']\n"
     ]
    }
   ],
   "source": [
    "print(\"nama bapa budak itu adalah {0} dan umurnya {1} tahun. Anaknya pula nama {anaks}\".format(umur, nama, anaks=anaks))"
   ]
  },
  {
   "cell_type": "markdown",
   "id": "2f8dfe68-efef-44d2-920b-059c451d069e",
   "metadata": {},
   "source": [
    "## %\n",
    "Kaedah yang lagi lama sebelum format dan lebih sukar untuk digunakan kerana perlu nyatakan data type terlebih dahulu"
   ]
  },
  {
   "cell_type": "code",
   "execution_count": 8,
   "id": "34ab0589-b853-4c63-b1a4-af697c0d942e",
   "metadata": {},
   "outputs": [
    {
     "name": "stdout",
     "output_type": "stream",
     "text": [
      "nama bapa budak itu adalah Walid bin Ahmad\n"
     ]
    }
   ],
   "source": [
    "print(\"nama bapa budak itu adalah %s\" %nama)"
   ]
  },
  {
   "cell_type": "code",
   "execution_count": 9,
   "id": "8e3ff2a8-4236-44dc-98df-32b5d0f50a23",
   "metadata": {},
   "outputs": [
    {
     "ename": "TypeError",
     "evalue": "%d format: a real number is required, not str",
     "output_type": "error",
     "traceback": [
      "\u001b[31m---------------------------------------------------------------------------\u001b[39m",
      "\u001b[31mTypeError\u001b[39m                                 Traceback (most recent call last)",
      "\u001b[36mCell\u001b[39m\u001b[36m \u001b[39m\u001b[32mIn[9]\u001b[39m\u001b[32m, line 1\u001b[39m\n\u001b[32m----> \u001b[39m\u001b[32m1\u001b[39m \u001b[38;5;28mprint\u001b[39m(\u001b[33;43m\"\u001b[39;49m\u001b[33;43mnama bapa budak itu adalah \u001b[39;49m\u001b[38;5;132;43;01m%d\u001b[39;49;00m\u001b[33;43m\"\u001b[39;49m\u001b[43m \u001b[49m\u001b[43m%\u001b[49m\u001b[43mnama\u001b[49m)\n",
      "\u001b[31mTypeError\u001b[39m: %d format: a real number is required, not str"
     ]
    }
   ],
   "source": [
    "print(\"nama bapa budak itu adalah %d\" %nama)"
   ]
  },
  {
   "cell_type": "code",
   "execution_count": null,
   "id": "0d0491dd-f700-40a7-b8f6-4a88ad1c0c45",
   "metadata": {},
   "outputs": [],
   "source": [
    "print(\"nama bapa budak itu adalah %s dan umurnya %d tahun. Anaknya pula nama %s\" % (nama, umur, anaks))"
   ]
  }
 ],
 "metadata": {
  "kernelspec": {
   "display_name": "Python 3 (ipykernel)",
   "language": "python",
   "name": "python3"
  },
  "language_info": {
   "codemirror_mode": {
    "name": "ipython",
    "version": 3
   },
   "file_extension": ".py",
   "mimetype": "text/x-python",
   "name": "python",
   "nbconvert_exporter": "python",
   "pygments_lexer": "ipython3",
   "version": "3.13.3"
  }
 },
 "nbformat": 4,
 "nbformat_minor": 5
}
