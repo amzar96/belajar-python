{
 "cells": [
  {
   "cell_type": "markdown",
   "id": "717c7fc1-3325-48e5-97d7-4db05a478605",
   "metadata": {},
   "source": [
    "# Pengenalan\n",
    "\n",
    "Salam sejahtera semuanya. Saya tahu niat anda selepas membuka fail ini. Semestinya anda ingin tahu lebih terperinci berkenaan bahasa **Python**. Fail ini tidak bertujuaan untuk menerangkan apa itu Python, bagaiman ianya dihasilkan sebagainya akan tetapi lebih ke arah cara menaip *code* menggunakan Python berserta komen.\n",
    "\n",
    "Maaf jika senarai yang diajar tidak teratur!\n",
    "\n",
    "# Senarai Asas yang Akan Diajarkan\n",
    "\n",
    "Perkara asas Python yang kita akan explore satu satu:\n",
    "\n",
    "- **Print statement**: nak tunjuk output kat skrin\n",
    "- **Variables & data types**: macam mana nak simpan teks, nombor, boolean, etc.\n",
    "- **User input**: ambil input dari user guna `input()`\n",
    "- **Operators**: tambah, tolak, darab, bahagi dan lain-lain\n",
    "- **Conditional statements**: `if`, `elif`, `else` (buat keputusan dalam code)\n",
    "- **Loops**: `for` loop & `while` loop untuk ulang sesuatu\n",
    "- **List**: simpan banyak data dalam satu variable\n",
    "- **Functions**: tulis code reusable yang boleh dipanggil semula\n",
    "- **Dictionary**: simpan data dalam format key-value\n",
    "- **Import libraries**: macam mana nak guna library luar (contoh: `math`, `random`)\n",
    "\n",
    "Setiap topik akan ada notebook sendiri dengan penerangan simple dan contoh code.\n",
    "\n",
    "Boleh ikut slow slow. yang penting faham dan kena cuba sendiri baru steady.\n"
   ]
  },
  {
   "cell_type": "code",
   "execution_count": null,
   "id": "247ec634-76b6-4e38-84ca-006fb5318709",
   "metadata": {},
   "outputs": [],
   "source": []
  }
 ],
 "metadata": {
  "kernelspec": {
   "display_name": "Python 3 (ipykernel)",
   "language": "python",
   "name": "python3"
  },
  "language_info": {
   "codemirror_mode": {
    "name": "ipython",
    "version": 3
   },
   "file_extension": ".py",
   "mimetype": "text/x-python",
   "name": "python",
   "nbconvert_exporter": "python",
   "pygments_lexer": "ipython3",
   "version": "3.13.3"
  }
 },
 "nbformat": 4,
 "nbformat_minor": 5
}
